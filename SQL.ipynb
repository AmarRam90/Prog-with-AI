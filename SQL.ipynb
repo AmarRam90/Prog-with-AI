{
 "cells": [
  {
   "cell_type": "code",
   "execution_count": 1,
   "id": "f420e203",
   "metadata": {},
   "outputs": [],
   "source": []
  },
  {
   "cell_type": "code",
   "execution_count": 2,
   "id": "f9c85369",
   "metadata": {},
   "outputs": [
    {
     "name": "stdout",
     "output_type": "stream",
     "text": [
      "Collecting mysql.connector\n",
      "  Downloading mysql-connector-2.2.9.tar.gz (11.9 MB)\n",
      "     ---------------------------------------- 0.0/11.9 MB ? eta -:--:--\n",
      "     ---------------------------------------- 0.0/11.9 MB ? eta -:--:--\n",
      "     ---------------------------------------- 0.0/11.9 MB ? eta -:--:--\n",
      "     --------------------------------------- 0.0/11.9 MB 163.8 kB/s eta 0:01:13\n",
      "     --------------------------------------- 0.0/11.9 MB 178.6 kB/s eta 0:01:07\n",
      "     --------------------------------------- 0.1/11.9 MB 280.5 kB/s eta 0:00:42\n",
      "     --------------------------------------- 0.1/11.9 MB 400.9 kB/s eta 0:00:30\n",
      "      -------------------------------------- 0.2/11.9 MB 523.5 kB/s eta 0:00:23\n",
      "      -------------------------------------- 0.2/11.9 MB 597.3 kB/s eta 0:00:20\n",
      "     - ------------------------------------- 0.3/11.9 MB 731.4 kB/s eta 0:00:16\n",
      "     - ------------------------------------- 0.4/11.9 MB 768.6 kB/s eta 0:00:15\n",
      "     - ------------------------------------- 0.4/11.9 MB 833.5 kB/s eta 0:00:14\n",
      "     -- ------------------------------------- 0.6/11.9 MB 1.1 MB/s eta 0:00:11\n",
      "     -- ------------------------------------- 0.7/11.9 MB 1.2 MB/s eta 0:00:10\n",
      "     --- ------------------------------------ 1.1/11.9 MB 1.6 MB/s eta 0:00:07\n",
      "     ---- ----------------------------------- 1.4/11.9 MB 1.9 MB/s eta 0:00:06\n",
      "     ----- ---------------------------------- 1.5/11.9 MB 2.0 MB/s eta 0:00:06\n",
      "     ----- ---------------------------------- 1.5/11.9 MB 2.0 MB/s eta 0:00:06\n",
      "     ----- ---------------------------------- 1.6/11.9 MB 1.8 MB/s eta 0:00:06\n",
      "     ----- ---------------------------------- 1.7/11.9 MB 1.9 MB/s eta 0:00:06\n",
      "     ----- ---------------------------------- 1.7/11.9 MB 1.9 MB/s eta 0:00:06\n",
      "     ------- -------------------------------- 2.1/11.9 MB 2.1 MB/s eta 0:00:05\n",
      "     ------- -------------------------------- 2.1/11.9 MB 2.1 MB/s eta 0:00:05\n",
      "     -------- ------------------------------- 2.5/11.9 MB 2.3 MB/s eta 0:00:05\n",
      "     -------- ------------------------------- 2.6/11.9 MB 2.4 MB/s eta 0:00:04\n",
      "     -------- ------------------------------- 2.6/11.9 MB 2.4 MB/s eta 0:00:04\n",
      "     -------- ------------------------------- 2.6/11.9 MB 2.4 MB/s eta 0:00:04\n",
      "     -------- ------------------------------- 2.6/11.9 MB 2.4 MB/s eta 0:00:04\n",
      "     ----------- ---------------------------- 3.3/11.9 MB 2.5 MB/s eta 0:00:04\n",
      "     ----------- ---------------------------- 3.4/11.9 MB 2.5 MB/s eta 0:00:04\n",
      "     ----------- ---------------------------- 3.5/11.9 MB 2.5 MB/s eta 0:00:04\n",
      "     ------------ --------------------------- 3.6/11.9 MB 2.4 MB/s eta 0:00:04\n",
      "     ------------ --------------------------- 3.8/11.9 MB 2.5 MB/s eta 0:00:04\n",
      "     -------------- ------------------------- 4.2/11.9 MB 2.6 MB/s eta 0:00:03\n",
      "     --------------- ------------------------ 4.5/11.9 MB 2.8 MB/s eta 0:00:03\n",
      "     --------------- ------------------------ 4.6/11.9 MB 2.8 MB/s eta 0:00:03\n",
      "     --------------- ------------------------ 4.6/11.9 MB 2.8 MB/s eta 0:00:03\n",
      "     --------------- ------------------------ 4.6/11.9 MB 2.7 MB/s eta 0:00:03\n",
      "     ---------------- ----------------------- 4.8/11.9 MB 2.7 MB/s eta 0:00:03\n",
      "     ---------------- ----------------------- 4.9/11.9 MB 2.6 MB/s eta 0:00:03\n",
      "     ----------------- ---------------------- 5.1/11.9 MB 2.7 MB/s eta 0:00:03\n",
      "     ----------------- ---------------------- 5.1/11.9 MB 2.7 MB/s eta 0:00:03\n",
      "     ----------------- ---------------------- 5.3/11.9 MB 2.7 MB/s eta 0:00:03\n",
      "     ----------------- ---------------------- 5.3/11.9 MB 2.6 MB/s eta 0:00:03\n",
      "     ------------------ --------------------- 5.4/11.9 MB 2.6 MB/s eta 0:00:03\n",
      "     ------------------- -------------------- 5.7/11.9 MB 2.7 MB/s eta 0:00:03\n",
      "     ------------------- -------------------- 5.9/11.9 MB 2.7 MB/s eta 0:00:03\n",
      "     -------------------- ------------------- 6.1/11.9 MB 2.7 MB/s eta 0:00:03\n",
      "     --------------------- ------------------ 6.3/11.9 MB 2.8 MB/s eta 0:00:02\n",
      "     --------------------- ------------------ 6.5/11.9 MB 2.8 MB/s eta 0:00:02\n",
      "     ---------------------- ----------------- 6.8/11.9 MB 2.9 MB/s eta 0:00:02\n",
      "     ----------------------- ---------------- 7.0/11.9 MB 2.9 MB/s eta 0:00:02\n",
      "     ------------------------ --------------- 7.1/11.9 MB 2.9 MB/s eta 0:00:02\n",
      "     ------------------------ --------------- 7.1/11.9 MB 2.9 MB/s eta 0:00:02\n",
      "     ------------------------ --------------- 7.2/11.9 MB 2.8 MB/s eta 0:00:02\n",
      "     ------------------------ --------------- 7.4/11.9 MB 2.9 MB/s eta 0:00:02\n",
      "     ------------------------- -------------- 7.5/11.9 MB 2.8 MB/s eta 0:00:02\n",
      "     ------------------------- -------------- 7.6/11.9 MB 2.8 MB/s eta 0:00:02\n",
      "     ------------------------- -------------- 7.6/11.9 MB 2.8 MB/s eta 0:00:02\n",
      "     -------------------------- ------------- 7.8/11.9 MB 2.8 MB/s eta 0:00:02\n",
      "     -------------------------- ------------- 7.8/11.9 MB 2.8 MB/s eta 0:00:02\n",
      "     -------------------------- ------------- 8.0/11.9 MB 2.8 MB/s eta 0:00:02\n",
      "     --------------------------- ------------ 8.2/11.9 MB 2.8 MB/s eta 0:00:02\n",
      "     ---------------------------- ----------- 8.3/11.9 MB 2.8 MB/s eta 0:00:02\n",
      "     ---------------------------- ----------- 8.5/11.9 MB 2.8 MB/s eta 0:00:02\n",
      "     ----------------------------- ---------- 8.6/11.9 MB 2.8 MB/s eta 0:00:02\n",
      "     ----------------------------- ---------- 8.8/11.9 MB 2.8 MB/s eta 0:00:02\n",
      "     ------------------------------ --------- 9.0/11.9 MB 2.8 MB/s eta 0:00:02\n",
      "     ------------------------------ --------- 9.1/11.9 MB 2.8 MB/s eta 0:00:01\n",
      "     ------------------------------- -------- 9.3/11.9 MB 2.9 MB/s eta 0:00:01\n",
      "     ------------------------------- -------- 9.5/11.9 MB 2.9 MB/s eta 0:00:01\n",
      "     -------------------------------- ------- 9.7/11.9 MB 2.9 MB/s eta 0:00:01\n",
      "     --------------------------------- ------ 9.8/11.9 MB 2.9 MB/s eta 0:00:01\n",
      "     --------------------------------- ------ 10.0/11.9 MB 2.9 MB/s eta 0:00:01\n",
      "     ---------------------------------- ----- 10.2/11.9 MB 2.9 MB/s eta 0:00:01\n",
      "     ---------------------------------- ----- 10.3/11.9 MB 3.1 MB/s eta 0:00:01\n",
      "     ----------------------------------- ---- 10.6/11.9 MB 3.2 MB/s eta 0:00:01\n",
      "     ----------------------------------- ---- 10.6/11.9 MB 3.3 MB/s eta 0:00:01\n",
      "     ----------------------------------- ---- 10.6/11.9 MB 3.3 MB/s eta 0:00:01\n",
      "     ----------------------------------- ---- 10.6/11.9 MB 3.3 MB/s eta 0:00:01\n",
      "     ------------------------------------- -- 11.1/11.9 MB 3.3 MB/s eta 0:00:01\n",
      "     -------------------------------------- - 11.3/11.9 MB 3.3 MB/s eta 0:00:01\n",
      "     -------------------------------------- - 11.4/11.9 MB 3.2 MB/s eta 0:00:01\n",
      "     -------------------------------------- - 11.5/11.9 MB 3.2 MB/s eta 0:00:01\n",
      "     ---------------------------------------  11.6/11.9 MB 3.2 MB/s eta 0:00:01\n",
      "     ---------------------------------------  11.8/11.9 MB 3.2 MB/s eta 0:00:01\n",
      "     ---------------------------------------  11.8/11.9 MB 3.2 MB/s eta 0:00:01\n",
      "     ---------------------------------------- 11.9/11.9 MB 3.2 MB/s eta 0:00:00\n",
      "  Preparing metadata (setup.py): started\n",
      "  Preparing metadata (setup.py): finished with status 'done'\n",
      "Building wheels for collected packages: mysql.connector\n",
      "  Building wheel for mysql.connector (setup.py): started\n",
      "  Building wheel for mysql.connector (setup.py): finished with status 'done'\n",
      "  Created wheel for mysql.connector: filename=mysql_connector-2.2.9-cp311-cp311-win_amd64.whl size=247957 sha256=b43a00501493a4797e9a1020f5c0016ed3dc81265e1d15f4911b3c5dbf711a45\n",
      "  Stored in directory: c:\\users\\arham shakeel\\appdata\\local\\pip\\cache\\wheels\\17\\cd\\ed\\2d49e9bac69cf09382e4c7cc20a2511202b48324b87db26019\n",
      "Successfully built mysql.connector\n",
      "Installing collected packages: mysql.connector\n",
      "Successfully installed mysql.connector-2.2.9\n",
      "Note: you may need to restart the kernel to use updated packages.\n"
     ]
    },
    {
     "name": "stderr",
     "output_type": "stream",
     "text": [
      "\n",
      "[notice] A new release of pip is available: 23.2.1 -> 23.3.1\n",
      "[notice] To update, run: C:\\Users\\Arham Shakeel\\AppData\\Local\\Microsoft\\WindowsApps\\PythonSoftwareFoundation.Python.3.11_qbz5n2kfra8p0\\python.exe -m pip install --upgrade pip\n"
     ]
    }
   ],
   "source": [
    "%pip install mysql.connector"
   ]
  },
  {
   "cell_type": "code",
   "execution_count": 40,
   "id": "a5d9d49f",
   "metadata": {},
   "outputs": [],
   "source": [
    "import mysql.connector\n",
    "import sqlite3"
   ]
  },
  {
   "cell_type": "markdown",
   "id": "46af0f28",
   "metadata": {},
   "source": [
    "If you have secured your local MySQL server with a specific username and password, you should use that exact username and password in your code when establishing a connection. Using the correct credentials is crucial for the security and functionality of your application.  chatgpt"
   ]
  },
  {
   "cell_type": "markdown",
   "id": "e2d9d32e",
   "metadata": {},
   "source": [
    " After executing this line, the db variable will hold the connection object, which can be used to interact with the MySQL database in the subsequent code."
   ]
  },
  {
   "cell_type": "markdown",
   "id": "95597fc2",
   "metadata": {},
   "source": [
    ". A cursor is an object that allows you to interact with the database by sending SQL queries and fetching results. The cursor is like a pointer that moves through the rows of the result set."
   ]
  },
  {
   "cell_type": "code",
   "execution_count": 77,
   "id": "90b155c6",
   "metadata": {},
   "outputs": [],
   "source": [
    "mycursor = db.cursor()"
   ]
  },
  {
   "cell_type": "markdown",
   "id": "bdb6c5d6",
   "metadata": {},
   "source": [
    "##### After this line of code is executed, you can use mycursor to perform various operations on the database. For example, you can execute SQL queries using mycursor.execute(), fetch results using mycursor.fetchall(), and commit changes to the database using db.commit()."
   ]
  },
  {
   "cell_type": "markdown",
   "id": "8b4e4185",
   "metadata": {},
   "source": [
    "WE execute the query by passing in the query in mycursor object.execute\n",
    "The name of query is CREATE DATABASE and to call it mean as a function use any name but without any space"
   ]
  },
  {
   "cell_type": "code",
   "execution_count": 11,
   "id": "5d5311ea",
   "metadata": {},
   "outputs": [],
   "source": [
    "mycursor.execute(\"CREATE DATABASE testdatabase2\")"
   ]
  },
  {
   "cell_type": "code",
   "execution_count": null,
   "id": "de3893c6",
   "metadata": {},
   "outputs": [],
   "source": [
    "# to connect to this data base pass argument databaes=\" the name we used i.e. testdatabase\""
   ]
  },
  {
   "cell_type": "code",
   "execution_count": 21,
   "id": "2a3b03fc",
   "metadata": {},
   "outputs": [],
   "source": [
    "db = mysql.connector.connect(\n",
    "        host=\"localhost\",user=\"sammar\",passwd=\"samar213\",database=\"testdatabase\")"
   ]
  },
  {
   "cell_type": "code",
   "execution_count": 22,
   "id": "1c584d84",
   "metadata": {},
   "outputs": [],
   "source": [
    "mycursor = db.cursor()"
   ]
  },
  {
   "cell_type": "markdown",
   "id": "424e6060",
   "metadata": {},
   "source": [
    "# MAKING A TABLE\n",
    "#cursorobject.\"execute\"(\"QUERY(CREATE TABLE) NameOFTable(PERSON) (Name of column/indexes and type of data they are going to hold)\")\n",
    "\n",
    "#### DataTypes\n",
    " ######   Numeric Types:\n",
    "\n",
    "INT or INTEGER: Integer type.\n",
    "\n",
    "TINYINT: Small integer.\n",
    "\n",
    "SMALLINT: Small integer.\n",
    "\n",
    "MEDIUMINT: Medium-sized integer.\n",
    "\n",
    "BIGINT: Large integer.\n",
    "\n",
    "FLOAT: Single-precision floating-point number.\n",
    "\n",
    "DOUBLE: Double-precision floating-point number.\n",
    "\n",
    "DECIMAL or NUMERIC: Fixed-point decimal.\n",
    "\n",
    "###### Date and Time Types:\n",
    "\n",
    "DATE: Date (YYYY-MM-DD).\n",
    "\n",
    "TIME: Time (HH:MM:SS).\n",
    "\n",
    "DATETIME: Date and time (YYYY-MM-DD HH:MM:SS).\n",
    "\n",
    "TIMESTAMP: Timestamp (automatically updated to the current \n",
    "\n",
    "timestamp when a record is inserted or updated).\n",
    "\n",
    "YEAR: Year in two-digit or four-digit format.\n",
    "\n",
    "###### String Types:\n",
    "\n",
    "CHAR: Fixed-length character string.\n",
    "\n",
    "VARCHAR: Variable-length character string.\n",
    "\n",
    "TEXT: Variable-length text.\n",
    "\n",
    "BINARY: Fixed-length binary string.\n",
    "\n",
    "VARBINARY: Variable-length binary string.\n",
    "\n",
    "BLOB: Binary large object (for storing binary data).\n",
    "\n",
    "###### Enumeration and Set Types:\n",
    "\n",
    "ENUM: Enumeration (a list of permissible values).\n",
    "\n",
    "SET: Set (a list of zero or more values).\n",
    "\n",
    "###### Spatial Types:\n",
    "\n",
    "GEOMETRY: Spatial data type for storing geometric objects.\n",
    "\n",
    "These are the fundamental data types, and MySQL also supports \n",
    "\n",
    "variations and additional options for some types. For example, \n",
    "\n",
    "you can specify the size of a VARCHAR column or the precision and scale of a DECIMAL column.\n",
    "\n",
    "When creating a table, you can use these data types to define the columns along with additional constraints such as NOT NULL, PRIMARY KEY, AUTO_INCREMENT, and more. The specific data types and options you choose depend on the nature of the data you want to store in your table."
   ]
  },
  {
   "cell_type": "code",
   "execution_count": 7,
   "id": "1d72e459",
   "metadata": {},
   "outputs": [],
   "source": [
    "mycursor.execute(\"CREATE TABLE Person1 (name VARCHAR(50), age smallint UNSIGNED, personID int PRIMARY KEY AUTO_INCREMENT)\")"
   ]
  },
  {
   "cell_type": "code",
   "execution_count": 8,
   "id": "494eae54",
   "metadata": {},
   "outputs": [],
   "source": [
    "## FOR DESCRIBING THE TABLE  ..If table not there in db, gives error\n",
    "mycursor.execute(\"DESCRIBE Person1\")"
   ]
  },
  {
   "cell_type": "code",
   "execution_count": 9,
   "id": "fc32cfee",
   "metadata": {},
   "outputs": [
    {
     "name": "stdout",
     "output_type": "stream",
     "text": [
      "('name', 'varchar(50)', 'YES', '', None, '')\n",
      "('age', 'smallint unsigned', 'YES', '', None, '')\n",
      "('personID', 'int', 'NO', 'PRI', None, 'auto_increment')\n"
     ]
    }
   ],
   "source": [
    "for x in mycursor:\n",
    "    print(x)"
   ]
  },
  {
   "cell_type": "code",
   "execution_count": null,
   "id": "ea6d5aa6",
   "metadata": {},
   "outputs": [],
   "source": [
    "## ADDING ELEMENTS IN TABLE\n",
    "# cursorobject.execute(INSERT INTO table name (name of columns to enter data) VALUES (%s,%s),(values like below))"
   ]
  },
  {
   "cell_type": "code",
   "execution_count": 13,
   "id": "8bc3a812",
   "metadata": {},
   "outputs": [],
   "source": [
    "mycursor.execute(\"INSERT INTO Person1 (name, age) VALUES (%s,%s)\",(\"Tim\",19))\n",
    "db.commit()"
   ]
  },
  {
   "cell_type": "code",
   "execution_count": null,
   "id": "ace763e0",
   "metadata": {},
   "outputs": [],
   "source": [
    "## getting information from table\n",
    "#  cursorobject.execute(\"SELECT * FROM tablename\")  \n",
    "# and cursor will be loaded by values of table"
   ]
  },
  {
   "cell_type": "code",
   "execution_count": 17,
   "id": "cefcb6e5",
   "metadata": {},
   "outputs": [],
   "source": [
    "mycursor.execute(\"SELECT * FROM Person1\")"
   ]
  },
  {
   "cell_type": "code",
   "execution_count": 18,
   "id": "a993773f",
   "metadata": {},
   "outputs": [
    {
     "name": "stdout",
     "output_type": "stream",
     "text": [
      "('Joe', 20, 1)\n",
      "('Tim', 19, 2)\n"
     ]
    }
   ],
   "source": [
    "for x in mycursor:\n",
    "    print(x)"
   ]
  },
  {
   "cell_type": "code",
   "execution_count": 20,
   "id": "65b54733",
   "metadata": {},
   "outputs": [],
   "source": [
    "#new table\n",
    "from datetime import datetime"
   ]
  },
  {
   "cell_type": "code",
   "execution_count": 19,
   "id": "a1e4688b",
   "metadata": {},
   "outputs": [],
   "source": [
    "mycursor.execute(\"CREATE TABLE Test (name varchar(50), created datetime,gender ENUM('M','F','0'),id int PRIMARY KEY AUTO_INCREMENT)\")"
   ]
  },
  {
   "cell_type": "code",
   "execution_count": 28,
   "id": "f8e20064",
   "metadata": {},
   "outputs": [],
   "source": [
    "mycursor.execute(\"INSERT INTO Test (name,created,gender) VALUE (%s,%s,%s)\",(\"Joey\",datetime.now(),'F'))\n",
    "db.commit()"
   ]
  },
  {
   "cell_type": "code",
   "execution_count": null,
   "id": "2b52f428",
   "metadata": {},
   "outputs": [],
   "source": [
    "## selecting specific values from table\n",
    "# can be of selecting males, or having same name"
   ]
  },
  {
   "cell_type": "code",
   "execution_count": null,
   "id": "6141924d",
   "metadata": {},
   "outputs": [],
   "source": [
    "#  select from table is same, where can be used to pick specific, like gender=='M' gets males and ORDER by Column to look and the Ascending ASC or descending DESC\n",
    " #   * selects all colunms, it can be replaced by some specific columns name"
   ]
  },
  {
   "cell_type": "code",
   "execution_count": 33,
   "id": "61b02bf1",
   "metadata": {},
   "outputs": [
    {
     "name": "stdout",
     "output_type": "stream",
     "text": [
      "('Joe', datetime.datetime(2023, 11, 21, 19, 30, 54), 'M', 1)\n",
      "('Joe', datetime.datetime(2023, 11, 21, 19, 30, 57), 'M', 2)\n",
      "('Tim', datetime.datetime(2023, 11, 21, 19, 31, 8), 'M', 3)\n",
      "('Tim', datetime.datetime(2023, 11, 21, 19, 31, 18), 'M', 4)\n",
      "('Tim', datetime.datetime(2023, 11, 21, 19, 31, 23), 'M', 5)\n",
      "('Tim', datetime.datetime(2023, 11, 21, 19, 31, 28), 'M', 6)\n",
      "('Kim', datetime.datetime(2023, 11, 21, 19, 31, 39), 'M', 7)\n"
     ]
    }
   ],
   "source": [
    "mycursor.execute(\"SELECT * FROM Test WHERE gender='M' ORDER BY created ASC\")\n",
    "for x in mycursor:\n",
    "    print(x)"
   ]
  },
  {
   "cell_type": "code",
   "execution_count": null,
   "id": "ef9e2bab",
   "metadata": {},
   "outputs": [],
   "source": [
    "#  we wanted id so got the id and name retaining order as written"
   ]
  },
  {
   "cell_type": "code",
   "execution_count": 35,
   "id": "de87dc5d",
   "metadata": {},
   "outputs": [
    {
     "name": "stdout",
     "output_type": "stream",
     "text": [
      "(1, 'Joe')\n",
      "(2, 'Joe')\n",
      "(3, 'Tim')\n",
      "(4, 'Tim')\n",
      "(5, 'Tim')\n",
      "(6, 'Tim')\n",
      "(7, 'Kim')\n"
     ]
    }
   ],
   "source": [
    "mycursor.execute(\"SELECT id,name FROM Test WHERE gender='M' ORDER BY created ASC\")\n",
    "for x in mycursor:\n",
    "    print(x)"
   ]
  },
  {
   "cell_type": "code",
   "execution_count": null,
   "id": "97034c49",
   "metadata": {},
   "outputs": [],
   "source": [
    "#### MODIFYING A TABLE ,\n",
    "#1. ADDING A COLUMN\n",
    "# cursorobject.execute(ALTER TABLE table name ADD COLUMN column name type)#"
   ]
  },
  {
   "cell_type": "code",
   "execution_count": 36,
   "id": "65f4ab54",
   "metadata": {},
   "outputs": [],
   "source": [
    "mycursor.execute(\"ALTER TABLE Test ADD COLUMN food VARCHAR(50) NOT NULL\")\n"
   ]
  },
  {
   "cell_type": "code",
   "execution_count": 38,
   "id": "9b7f995a",
   "metadata": {},
   "outputs": [
    {
     "name": "stdout",
     "output_type": "stream",
     "text": [
      "('name', 'varchar(50)', 'YES', '', None, '')\n",
      "('created', 'datetime', 'YES', '', None, '')\n",
      "('gender', \"enum('M','F','0')\", 'YES', '', None, '')\n",
      "('id', 'int', 'NO', 'PRI', None, 'auto_increment')\n",
      "('food', 'varchar(50)', 'NO', '', None, '')\n"
     ]
    }
   ],
   "source": [
    "mycursor.execute(\"DESCRIBE Test\")\n",
    "for x in mycursor:\n",
    "    print(x)   #new column added"
   ]
  },
  {
   "cell_type": "code",
   "execution_count": null,
   "id": "863ae7d0",
   "metadata": {},
   "outputs": [],
   "source": [
    "# 2. remove column from table\n",
    "# cursorobject.execute(ALTER TABLE table name DROP column name)"
   ]
  },
  {
   "cell_type": "code",
   "execution_count": 41,
   "id": "c0e4626b",
   "metadata": {},
   "outputs": [],
   "source": [
    "mycursor.execute(\"ALTER TABLE Test DROP food\")\n"
   ]
  },
  {
   "cell_type": "code",
   "execution_count": 42,
   "id": "8c7c4646",
   "metadata": {},
   "outputs": [
    {
     "name": "stdout",
     "output_type": "stream",
     "text": [
      "('name', 'varchar(50)', 'YES', '', None, '')\n",
      "('created', 'datetime', 'YES', '', None, '')\n",
      "('gender', \"enum('M','F','0')\", 'YES', '', None, '')\n",
      "('id', 'int', 'NO', 'PRI', None, 'auto_increment')\n"
     ]
    }
   ],
   "source": [
    "mycursor.execute(\"DESCRIBE Test\")\n",
    "for x in mycursor:\n",
    "    print(x)   # deleted the column"
   ]
  },
  {
   "cell_type": "code",
   "execution_count": 46,
   "id": "8d30b060",
   "metadata": {},
   "outputs": [],
   "source": [
    "# change name of column\n",
    "#  # cursorobject.execute(ALTER TABLE table name CHANGE old name new name +its type)\n",
    "#  ADDING TYPE  and correct type IS MANADATORY   ,"
   ]
  },
  {
   "cell_type": "code",
   "execution_count": 70,
   "id": "a07fd8f3",
   "metadata": {},
   "outputs": [],
   "source": [
    "mycursor.execute(\"ALTER TABLE Person1 CHANGE age password varchar(50)\")\n"
   ]
  },
  {
   "cell_type": "code",
   "execution_count": 51,
   "id": "b516faa1",
   "metadata": {},
   "outputs": [
    {
     "name": "stdout",
     "output_type": "stream",
     "text": [
      "('first_name', 'varchar(50)', 'YES', '', None, '')\n",
      "('created', 'datetime', 'YES', '', None, '')\n",
      "('gender', \"enum('M','F','0')\", 'YES', '', None, '')\n",
      "('id', 'int', 'NO', 'PRI', None, 'auto_increment')\n"
     ]
    }
   ],
   "source": [
    "mycursor.execute(\"DESCRIBE Test\")\n",
    "for x in mycursor:\n",
    "    print(x)"
   ]
  },
  {
   "cell_type": "markdown",
   "id": "2273e5ec",
   "metadata": {},
   "source": [
    "### FOREIGN KEYS    (RELATING TABLES)\n",
    "REFERENCING 1 TABLE TO ANOTHER\n",
    "Foreign Key (FK) is a field in a table that is a Primary Key (PK) in another table. \n",
    "EVER Foreign key has 1 specific primary key in parent table\n",
    "###### 1. one to one\n",
    "   \n",
    "   Every foreign key is a specific key(Can say a primary key of      child table. Mean there is only 1 row in child table that        corresponds to 1 row in parent table). \n",
    "   \n",
    "###### 2. many to one:\n",
    "    \n",
    "In this case there could be more rows of foreign keys in child table that are related/refered to only 1 row in parent table. So the foregin keys cannot be the primary key of child table"
   ]
  },
  {
   "cell_type": "code",
   "execution_count": 67,
   "id": "f43770a2",
   "metadata": {},
   "outputs": [],
   "source": [
    "users = [(\"tim\",\"tim123\"),(\"joe\",\"joe123\"),(\"zee\",\"zee123\")]\n",
    "users_scores= [(45,100),(30,200),(46,124)]"
   ]
  },
  {
   "cell_type": "code",
   "execution_count": null,
   "id": "4617b2e1",
   "metadata": {},
   "outputs": [],
   "source": [
    "# We can acutally write queries in a variable and than can pass that \n",
    "# variable to cursor.execute"
   ]
  },
  {
   "cell_type": "markdown",
   "id": "d0fa65aa",
   "metadata": {},
   "source": [
    "#### Syntax for child class\n",
    " CREATE TABLE \"table_name\" (column 1+type PRIMARY KEY , FOREIGN KEY(columnToBeTreated as ForeignAmbassador i.e.column 1) REFERENCES \"parentTable\"(column of parent table to refernece),)"
   ]
  },
  {
   "cell_type": "code",
   "execution_count": 60,
   "id": "2b021bc9",
   "metadata": {},
   "outputs": [],
   "source": [
    "Q1 = \"CREATE TABLE users (id int PRIMARY KEY AUTO_INCREMENT,name varchar(10),password varchar(10))\"\n",
    "Q2 = \"CREATE TABLE scores (user_id int PRIMARY KEY ,FOREIGN KEY(user_id) REFERENCES users(id), game1 int DEFAULT 0, game2 int DEFAULT 0)\" # sets default value =0\n",
    "\n",
    "# mycursor.exectue(Q1)\n",
    "# mycursor.execute(Q2)\n"
   ]
  },
  {
   "cell_type": "code",
   "execution_count": 61,
   "id": "3f3266c8",
   "metadata": {},
   "outputs": [
    {
     "name": "stdout",
     "output_type": "stream",
     "text": [
      "('person',)\n",
      "('person1',)\n",
      "('scores',)\n",
      "('test',)\n",
      "('users',)\n"
     ]
    }
   ],
   "source": [
    "# checking tables\n",
    "mycursor.execute(\"SHOW TABLES\")\n",
    "for i in mycursor:\n",
    "    print(i)"
   ]
  },
  {
   "cell_type": "code",
   "execution_count": null,
   "id": "0c72d508",
   "metadata": {},
   "outputs": [],
   "source": [
    "# filling values all at once"
   ]
  },
  {
   "cell_type": "code",
   "execution_count": 71,
   "id": "5f06cf07",
   "metadata": {},
   "outputs": [],
   "source": [
    "# all at once\n",
    "mycursor.executemany(\"INSERT INTO Person1 (name,password)  VALUES (%s,%s)\",users)"
   ]
  },
  {
   "cell_type": "code",
   "execution_count": 72,
   "id": "cde9e672",
   "metadata": {},
   "outputs": [
    {
     "name": "stdout",
     "output_type": "stream",
     "text": [
      "('Joe', '20', 1)\n",
      "('Tim', '19', 2)\n",
      "('tim', 'tim123', 3)\n",
      "('joe', 'joe123', 4)\n",
      "('zee', 'zee123', 5)\n"
     ]
    }
   ],
   "source": [
    "mycursor.execute(\"SELECT * FROM Person1\")\n",
    "for i in mycursor:\n",
    "    print(i)"
   ]
  },
  {
   "cell_type": "code",
   "execution_count": 74,
   "id": "b479c209",
   "metadata": {},
   "outputs": [],
   "source": [
    "Q3 = \"INSERT INTO users (name,password) VALUES (%s,%s)\"\n",
    "Q4 = \"INSERT INTO scores (user_id,game1,game2) VALUES (%s,%s,%s)\"\n",
    "\n",
    "for x,user in enumerate(users):\n",
    "    mycursor.execute(Q3,user)\n",
    "    last_id_added = mycursor.lastrowid   # get last row's id\n",
    "    mycursor.execute(Q4,(last_id_added,)+(users_scores[x]))  # adds tuple of id to users_score[x] mean iterator number, can also do by initializing a variable =0 and incrementing it\n"
   ]
  },
  {
   "cell_type": "code",
   "execution_count": 76,
   "id": "3ad89285",
   "metadata": {},
   "outputs": [
    {
     "name": "stdout",
     "output_type": "stream",
     "text": [
      "(2, 45, 100)\n",
      "(3, 30, 200)\n",
      "(4, 46, 124)\n"
     ]
    }
   ],
   "source": [
    "mycursor.execute(\"SELECT * FROM scores\")\n",
    "for i in mycursor:\n",
    "    print(i)"
   ]
  },
  {
   "cell_type": "code",
   "execution_count": null,
   "id": "4ede4d22",
   "metadata": {},
   "outputs": [],
   "source": [
    "### updating table ###"
   ]
  },
  {
   "cell_type": "code",
   "execution_count": 102,
   "id": "025c71a7",
   "metadata": {},
   "outputs": [],
   "source": [
    "name=\"samaR\"\n",
    "mycursor.execute(\"update Person1 SET name=%s where personID=2\",(name,))\n",
    "\n",
    "## OR\n",
    "# mycursor.execute(\"update Person1 SET name='samar' where personID=2\")"
   ]
  },
  {
   "cell_type": "code",
   "execution_count": 110,
   "id": "ee4c170a",
   "metadata": {},
   "outputs": [
    {
     "name": "stdout",
     "output_type": "stream",
     "text": [
      "('tim', 'tim123', 3)\n",
      "('joe', 'joe123', 4)\n",
      "('zee', 'zee123', 5)\n"
     ]
    }
   ],
   "source": [
    "mycursor.execute(\"SELECT * FROM Person1\")\n",
    "for i in mycursor:\n",
    "    print(i)"
   ]
  },
  {
   "cell_type": "markdown",
   "id": "7b627053",
   "metadata": {},
   "source": [
    "#### Delete a row"
   ]
  },
  {
   "cell_type": "code",
   "execution_count": 109,
   "id": "1b60b344",
   "metadata": {},
   "outputs": [],
   "source": [
    "mycursor.execute(\"Delete from Person1 where personId=%s\",(2,))"
   ]
  },
  {
   "cell_type": "code",
   "execution_count": null,
   "id": "2387f733",
   "metadata": {},
   "outputs": [],
   "source": []
  },
  {
   "cell_type": "code",
   "execution_count": 120,
   "id": "ae36b201",
   "metadata": {},
   "outputs": [],
   "source": [
    "mycursor.execute(\"create table if not exists Doctors (Id int PRIMARY KEY AUTO_INCREMENT NOT NULL,name varchar(20),phone_number char(20) NOT NULL, type TEXT)\")"
   ]
  },
  {
   "cell_type": "code",
   "execution_count": 132,
   "id": "ba05594b",
   "metadata": {},
   "outputs": [],
   "source": [
    "Q2 = \"create table if not exists Patients (Id int primary key auto_increment,name varchar(20),email_address varchar(20),problem varchar(20),doctor_id int not null,FOREIGN KEY(doctor_id) REFERENCES Doctors(Id))\"\n",
    "mycursor.execute(Q2)"
   ]
  },
  {
   "cell_type": "code",
   "execution_count": 130,
   "id": "09ab896a",
   "metadata": {},
   "outputs": [],
   "source": [
    "doc = [(\"umair\",\"01304\",\"pythonspecialist\"),\n",
    "      (\"ahmed\",\"03442\",\"dldspecialist\"),\n",
    "      (\"adil\",\"07842\",\"oopspecialist\")]\n",
    "Q2 = \"insert into Doctors (name,phone_number,type) value(%s,%s,%s)\"\n",
    "mycursor.executemany(Q2,doc)"
   ]
  },
  {
   "cell_type": "code",
   "execution_count": 161,
   "id": "5beb588f",
   "metadata": {},
   "outputs": [
    {
     "name": "stdout",
     "output_type": "stream",
     "text": [
      "(1, 'umair', '01304', 'pythonspecialist')\n",
      "(2, 'ahmed', '03442', 'dldspecialist')\n",
      "(3, 'adil', '07842', 'oopspecialist')\n"
     ]
    }
   ],
   "source": [
    "for i in mycursor:\n",
    "    print(i)"
   ]
  },
  {
   "cell_type": "code",
   "execution_count": 184,
   "id": "b6b1b9d6",
   "metadata": {},
   "outputs": [
    {
     "name": "stdout",
     "output_type": "stream",
     "text": [
      "(4, 'sam', 'sam@123', 'paiache', 1)\n",
      "(5, 'abd', 'abd@123', 'dldache', 1)\n",
      "(6, 'ar', 'ar@123', 'oopache', 2)\n"
     ]
    }
   ],
   "source": [
    "mycursor.execute(\"select * from Patients\")\n",
    "for i in mycursor:\n",
    "    print(i)"
   ]
  },
  {
   "cell_type": "code",
   "execution_count": 182,
   "id": "8efefea3",
   "metadata": {},
   "outputs": [],
   "source": [
    "patients = [(\"sam\",\"sam@123\",\"paiache\",1),(\"abd\",\"abd@123\",\"dldache\",1)\n",
    "           ,(\"ar\",\"ar@123\",\"oopache\",2)]\n",
    "Q4 = \"insert into Patients (name,email_address,problem,doctor_id) values(%s,%s,%s,%s)\"\n",
    "mycursor.executemany(Q4,patients)"
   ]
  },
  {
   "cell_type": "code",
   "execution_count": 15,
   "id": "8c0b0ba7",
   "metadata": {},
   "outputs": [
    {
     "name": "stdout",
     "output_type": "stream",
     "text": [
      "('sam', 'sam@123')\n",
      "('abd', 'abd@123')\n"
     ]
    }
   ],
   "source": [
    "mycursor.execute(\"select name,email_address from Patients where doctor_id=1\")\n",
    "for i in mycursor:\n",
    "    print(i)"
   ]
  },
  {
   "cell_type": "code",
   "execution_count": 10,
   "id": "24939599",
   "metadata": {},
   "outputs": [],
   "source": [
    "## JOINS\n"
   ]
  },
  {
   "cell_type": "code",
   "execution_count": 39,
   "id": "e9632286",
   "metadata": {},
   "outputs": [
    {
     "name": "stdout",
     "output_type": "stream",
     "text": [
      "(1, 'umair', '01304', 'pythonspecialist', 5, 'abd', 'abd@123', 'dldache', 1, None)\n",
      "(1, 'umair', '01304', 'pythonspecialist', 4, 'sam', 'sam@123', 'paiache', 1, None)\n",
      "(2, 'ahmed', '03442', 'dldspecialist', 6, 'ar', 'ar@123', 'oopache', 2, None)\n",
      "(3, 'adil', '07842', 'oopspecialist', None, None, None, None, None, None)\n"
     ]
    }
   ],
   "source": [
    "mycursor.execute(\"SELECT * FROM Doctors left JOIN Patients on Patients.doctor_id=Doctors.Id\")\n",
    "for i in mycursor:\n",
    "    print(i)"
   ]
  }
 ],
 "metadata": {
  "kernelspec": {
   "display_name": "Python 3 (ipykernel)",
   "language": "python",
   "name": "python3"
  },
  "language_info": {
   "codemirror_mode": {
    "name": "ipython",
    "version": 3
   },
   "file_extension": ".py",
   "mimetype": "text/x-python",
   "name": "python",
   "nbconvert_exporter": "python",
   "pygments_lexer": "ipython3",
   "version": "3.11.6"
  }
 },
 "nbformat": 4,
 "nbformat_minor": 5
}
